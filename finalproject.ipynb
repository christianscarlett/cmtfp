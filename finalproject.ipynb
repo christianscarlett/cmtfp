{
 "cells": [
  {
   "cell_type": "code",
   "execution_count": 1,
   "id": "fd141f0b",
   "metadata": {},
   "outputs": [],
   "source": [
    "from music21 import *\n",
    "import os\n",
    "import random"
   ]
  },
  {
   "cell_type": "code",
   "execution_count": 2,
   "id": "3b90d7ae",
   "metadata": {},
   "outputs": [],
   "source": [
    "# # Nathan's musescore path settings\n",
    "# from music21 import environment\n",
    "# environLocal = environment.Environment('converter.subConverters')\n",
    "# environLocal['musescoreDirectPNGPath'] = 'C:\\\\Program Files\\\\MuseScore 3\\\\bin\\\\MuseScore3.exe'"
   ]
  },
  {
   "cell_type": "markdown",
   "id": "b5b254b9",
   "metadata": {},
   "source": [
    "## Load dataset"
   ]
  },
  {
   "cell_type": "code",
   "execution_count": 3,
   "id": "a3e886ae",
   "metadata": {},
   "outputs": [
    {
     "name": "stdout",
     "output_type": "stream",
     "text": [
      "10\n"
     ]
    }
   ],
   "source": [
    "DATASET_MAX = 10\n",
    "dataset_dir = './dataset'\n",
    "dataset = []\n",
    "for filename in os.listdir(dataset_dir):\n",
    "    if filename.endswith('.xml') or filename.endswith('.musicxml'):\n",
    "        c = converter.parse(dataset_dir + '/' + filename)\n",
    "        dataset.append(c)\n",
    "    if len(dataset) >= DATASET_MAX:\n",
    "        break\n",
    "print(len(dataset))"
   ]
  },
  {
   "cell_type": "code",
   "execution_count": 4,
   "id": "e8afe8b3",
   "metadata": {},
   "outputs": [
    {
     "name": "stdout",
     "output_type": "stream",
     "text": [
      "10\n"
     ]
    }
   ],
   "source": [
    "# transpose each piece to the same key (C or Cm)\n",
    "def transpose_to_C(s):\n",
    "    k = s.flatten().getElementsByClass(key.Key).first()\n",
    "    if k is None:\n",
    "        k = s.analyze('key')\n",
    "    i = interval.Interval(k.tonic, pitch.Pitch('C'))\n",
    "    return s.transpose(i)\n",
    "\n",
    "dataset_transposed = []\n",
    "for s in dataset:\n",
    "    try:\n",
    "        dataset_transposed.append(transpose_to_C(s))\n",
    "    except Exception as e:\n",
    "        print(e)\n",
    "        pass\n",
    "\n",
    "print(len(dataset_transposed))"
   ]
  },
  {
   "cell_type": "markdown",
   "id": "382f433e",
   "metadata": {},
   "source": [
    "## Feature extract"
   ]
  },
  {
   "cell_type": "markdown",
   "id": "d2fd3e16",
   "metadata": {},
   "source": [
    "### chords"
   ]
  },
  {
   "cell_type": "code",
   "execution_count": 161,
   "id": "14cd05d9",
   "metadata": {},
   "outputs": [
    {
     "data": {
      "text/plain": [
       "('bVII', 'i')"
      ]
     },
     "execution_count": 161,
     "metadata": {},
     "output_type": "execute_result"
    }
   ],
   "source": [
    "def hash_chord_symbol(chord_symbol):\n",
    "    '''\n",
    "    Input: a chord symbol\n",
    "    Output: a relevant string, containing features as desired\n",
    "    ! for now, we output the chordSymbol's root (eg B-)\n",
    "    '''\n",
    "    # ! We only hash root, because root and quality (eg B-7) has low sample size\n",
    "    # return chord_symbol.root().name + chord_symbol.quality\n",
    "    # return chord_symbol.figure.rstrip('1234567890')\n",
    "    return  roman.romanNumeralFromChord(chord_symbol, 'C').romanNumeral\n",
    "\n",
    "def hash_chord_symbol_list(list_chord_symbols):\n",
    "    '''\n",
    "    Input: a list of chord symbols\n",
    "    Output: a hashable object, containing features as desired\n",
    "    ! for now, we output a tuple with each chordSymbol's figure (eg (B-7, C7))\n",
    "    '''\n",
    "    list_hashed = [hash_chord_symbol(symbol) for symbol in list_chord_symbols]\n",
    "    return tuple(list_hashed)\n",
    "\n",
    "hash_chord_symbol_list([harmony.ChordSymbol('B-7'), harmony.ChordSymbol('Cmin7')])"
   ]
  },
  {
   "cell_type": "code",
   "execution_count": 162,
   "id": "17513178",
   "metadata": {},
   "outputs": [],
   "source": [
    "def extract_chords_and_durations (s: stream.Score, include_duration=True):\n",
    "    '''\n",
    "    Given a score, with properly notated ChordSymbols,\n",
    "    returns a list of its hashed chord symbols and durations, \n",
    "    eg [(ChordSymbol B-7, 2.0), (ChordSymbol G, 4.0)].\n",
    "    ! durations are optional\n",
    "    '''\n",
    "    chords_and_durs = [] \n",
    "\n",
    "    prev_chord_symbol = None\n",
    "    prev_chord_symbol_offset = 0\n",
    "\n",
    "    for chord_symbol in s.flatten()[harmony.ChordSymbol]:\n",
    "        if prev_chord_symbol is not None:\n",
    "            chord_and_dur = (hash_chord_symbol(prev_chord_symbol), chord_symbol.offset-prev_chord_symbol_offset)\n",
    "            if include_duration:\n",
    "                chords_and_durs.append(chord_and_dur)\n",
    "            else:\n",
    "                chords_and_durs.append(hash_chord_symbol(prev_chord_symbol))\n",
    "        prev_chord_symbol = chord_symbol\n",
    "        prev_chord_symbol_offset = chord_symbol.offset\n",
    "\n",
    "    return chords_and_durs"
   ]
  },
  {
   "cell_type": "markdown",
   "id": "fbd31a94",
   "metadata": {},
   "source": [
    "### Melody"
   ]
  },
  {
   "cell_type": "code",
   "execution_count": 212,
   "id": "155dae82",
   "metadata": {},
   "outputs": [],
   "source": [
    "def hash_note(n: note.Note):\n",
    "    '''\n",
    "    Input: a chord symbol\n",
    "    Output: a relevant hashable object, containing features as desired\n",
    "    ! for now, we output the note's name and ql as a tuple, for melody gen use later\n",
    "    '''\n",
    "    return  (n.name, n.duration.quarterLength)\n"
   ]
  },
  {
   "cell_type": "code",
   "execution_count": 233,
   "id": "7a719b44",
   "metadata": {},
   "outputs": [],
   "source": [
    "def extract_notes (s: stream.Score, include_duration=True):\n",
    "    '''\n",
    "    Given a score, \n",
    "    returns a list of its hashed notes and durations,\n",
    "    as wel as the current chord.\n",
    "    '''\n",
    "    notes = [] \n",
    "    current_rn = 'I' # TODO is this good initialization?\n",
    "\n",
    "    for thing in s.flatten():\n",
    "        if isinstance(thing, harmony.ChordSymbol):\n",
    "            chord_symbol = thing\n",
    "            current_rn =   roman.romanNumeralFromChord(chord_symbol, 'C').romanNumeral\n",
    "        elif isinstance(thing, note.Note):\n",
    "            n = thing\n",
    "            # add rn to the tuple\n",
    "            notes.append( (hash_note(n),current_rn) )\n",
    "\n",
    "    return notes"
   ]
  },
  {
   "cell_type": "code",
   "execution_count": 234,
   "id": "cbba5873",
   "metadata": {},
   "outputs": [
    {
     "name": "stdout",
     "output_type": "stream",
     "text": [
      "[(('D', 0.5), 'IV'), (('D', 0.5), 'IV'), (('E', 0.5), 'IV'), (('B', 0.5), 'IV'), (('D', 0.5), 'V'), (('D', 0.5), 'V'), (('E', 0.5), 'V'), (('D', 1.0), 'V'), (('D', 0.5), 'II'), (('E', 0.5), 'II'), (('B', 0.5), 'II'), (('D', 0.5), 'II'), (('B', 0.5), 'II'), (('D', 0.5), 'IV'), (('D', 0.5), 'IV'), (('E', 0.5), 'IV'), (('B', 0.5), 'V'), (('D', 0.5), 'V'), (('D', 0.5), 'V'), (('E', 0.5), 'V'), (('D', 1.0), 'II'), (('D', 0.5), 'II'), (('E', 0.5), 'II'), (('B', 0.5), 'II'), (('D', 0.5), 'II'), (('B', 0.5), 'II'), (('D', 0.5), 'II'), (('C', 1.0), 'II'), (('A-', 0.5), 'II'), (('G', 0.5), 'II'), (('F#', 0.5), 'II'), (('C', 0.5), 'II'), (('D', 0.5), 'II'), (('D', 0.5), 'II'), (('F', 1.0), 'II'), (('C', 0.5), 'II'), (('D', 0.5), 'II'), (('D', 0.5), 'II'), (('F', 0.5), 'II'), (('G', 0.5), 'II'), (('A', 0.5), 'II'), (('C', 0.5), 'II'), (('D', 0.5), 'II'), (('C', 0.5), 'II'), (('D', 1.0), 'II'), (('D', 0.5), 'II'), (('C', 1.0), 'II'), (('A-', 0.5), 'II'), (('G', 0.5), 'II'), (('F#', 0.5), 'II'), (('C', 0.5), 'II'), (('D', 0.5), 'II'), (('D', 0.5), 'II'), (('F', 1.0), 'II'), (('C', 0.5), 'II'), (('D', 0.5), 'II'), (('D', 0.5), 'II'), (('F', 0.5), 'II'), (('G', 0.5), 'II'), (('A', 0.5), 'II'), (('C', 0.5), 'II'), (('D', 0.5), 'II'), (('C', 0.5), 'II'), (('D', 1.0), 'II'), (('F', 0.5), 'V'), (('E', 1.0), 'V'), (('D', 0.5), 'V'), (('B', 0.5), 'V'), (('G', 0.5), 'V'), (('F', 0.25), 'V'), (('E', 0.25), 'V'), (('D', 0.5), 'V'), (('B', 0.25), 'V'), (('A', 0.25), 'V'), (('G', 1.0), 'V'), (('C', 0.5), 'V'), (('D', 0.5), 'V'), (('D', 0.5), 'V'), (('F', 0.5), 'V'), (('A', 0.5), 'V'), (('C', 0.5), 'V'), (('D', 0.5), 'V'), (('C', 0.5), 'V'), (('D', 1.0), 'V'), (('F', 0.5), 'V'), (('E', 1.0), 'V'), (('D', 0.5), 'V'), (('B', 0.5), 'V'), (('G', 0.5), 'V'), (('F', 0.25), 'V'), (('E', 0.25), 'V'), (('D', 0.5), 'V'), (('B', 0.25), 'V'), (('A', 0.25), 'V'), (('G', 1.0), 'V'), (('C', 0.5), 'V'), (('D', 0.5), 'V'), (('D', 0.5), 'V'), (('F', 0.5), 'V'), (('A', 0.5), 'V'), (('C', 0.5), 'V'), (('D', 0.5), 'V'), (('C', 0.5), 'V'), (('D', 1.0), 'V'), (('C', 0.5), 'IV'), (('D', 0.5), 'IV'), (('F', 0.5), 'IV'), (('D', 0.5), 'bIII'), (('E-', 0.5), 'bIII'), (('F', 0.5), 'bIII'), (('G', 0.5), 'II'), (('A', 0.5), 'II'), (('A', 1.0), 'II'), (('C', 1.0), 'II'), (('D', 0.5), 'II'), (('F', 0.5), 'II'), (('G', 0.5), 'bVII'), (('F', 0.5), 'bVII'), (('A-', 0.5), 'bVII'), (('G', 0.25), 'bVI'), (('E', 0.25), 'bVI'), (('D', 0.5), 'bVI'), (('B', 0.5), 'bVI'), (('B', 1.0), 'V'), (('D', 1.0), 'V'), (('D', 0.5), 'v'), (('F', 0.5), 'v'), (('G', 0.5), 'v'), (('F', 0.5), 'v'), (('F', 0.5), 'I'), (('A-', 0.5), 'I'), (('G', 0.5), 'I'), (('F', 0.5), 'I'), (('F', 1.0), 'IV'), (('D', 1.0), 'IV'), (('G', 0.5), 'III'), (('F', 0.5), 'III'), (('G', 0.5), 'III'), (('F', 0.5), 'III'), (('D', 1.0), 'III'), (('C', 0.5), 'VI'), (('A', 0.5), 'VI'), (('B', 1.0), 'VI'), (('D', 1.0), 'VI')]\n"
     ]
    }
   ],
   "source": [
    "s = dataset_transposed[1]\n",
    "print(extract_notes(s))"
   ]
  },
  {
   "cell_type": "markdown",
   "id": "78285f96",
   "metadata": {},
   "source": [
    "## (Old) hashing stuff"
   ]
  },
  {
   "cell_type": "code",
   "execution_count": 46,
   "id": "3adfbd3f",
   "metadata": {},
   "outputs": [
    {
     "data": {
      "text/plain": [
       "'M0B0-M1B3-M2B0'"
      ]
     },
     "execution_count": 46,
     "metadata": {},
     "output_type": "execute_result"
    }
   ],
   "source": [
    "def hash_rhythm(rhythm):\n",
    "    '''\n",
    "    Input: list (e.g. [{measure: 0, beat: 0}, {measure: 1, beat: 3}, {measure: 2, beat: 0}])\n",
    "    Output: string (e.g. 'M1B0-M1B3-M2B0')\n",
    "    '''\n",
    "    hashes = []\n",
    "    for r in rhythm:\n",
    "        hashes.append(\n",
    "            'M' + str(r['measure']) + 'B' + str(r['beat'])\n",
    "        )\n",
    "    return '-'.join(hashes)\n",
    "\n",
    "hash_rhythm([{'measure': 0, 'beat': 0}, {'measure': 1, 'beat': 3}, {'measure': 2, 'beat': 0}])"
   ]
  },
  {
   "cell_type": "code",
   "execution_count": 47,
   "id": "59c6d755",
   "metadata": {},
   "outputs": [
    {
     "data": {
      "text/plain": [
       "[{'measure': '0', 'beat': '0'},\n",
       " {'measure': '1', 'beat': '3'},\n",
       " {'measure': '2', 'beat': '0'}]"
      ]
     },
     "execution_count": 47,
     "metadata": {},
     "output_type": "execute_result"
    }
   ],
   "source": [
    "def unhash_rhythm(rhythm_hash):\n",
    "    '''\n",
    "    Input: a hashed rhythm\n",
    "    Output: the unhashed rhythm\n",
    "    '''\n",
    "    unhashed = []\n",
    "    for subhash in rhythm_hash.split('-'):\n",
    "        m, b = subhash[1:].split('B')\n",
    "        unhashed.append({\n",
    "            'measure': m,\n",
    "            'beat': b\n",
    "        })\n",
    "    return unhashed\n",
    "        \n",
    "unhash_rhythm('M0B0-M1B3-M2B0')"
   ]
  },
  {
   "cell_type": "code",
   "execution_count": 138,
   "id": "b0855c5e",
   "metadata": {},
   "outputs": [
    {
     "data": {
      "text/plain": [
       "(('I', 'V'),\n",
       " [{'measure': 0, 'beat': 0}, {'measure': 2, 'beat': 2}],\n",
       " <function __main__.generate_progression.<locals>.choose_rhythm(prog)>)"
      ]
     },
     "execution_count": 138,
     "metadata": {},
     "output_type": "execute_result"
    }
   ],
   "source": [
    "def generate_progression(pairs):\n",
    "    '''\n",
    "    Inputs:\n",
    "        list of tuples (progression, rhythm) where progression is a tuple of chord names (e.g. ('ii', 'V', 'I'))\n",
    "            and rhythm is defined above (unhashed)\n",
    "    Outputs:\n",
    "        a tuple (progression, rhythm, rhythm_choosing_func)\n",
    "    '''\n",
    "    progs = []\n",
    "    rhythms_given_prog_len = {}\n",
    "    for prog, rhythm in pairs:\n",
    "        progs.append(prog)\n",
    "        if len(prog) not in rhythms_given_prog_len:\n",
    "            rhythms_given_prog_len[len(prog)] = []\n",
    "        rhythms_given_prog_len[len(prog)].append(rhythm)\n",
    "        \n",
    "    def choose_rhythm(prog):\n",
    "        return random.choice(rhythms_given_prog_len[len(prog)])\n",
    "    \n",
    "    prog = random.choice(progs)\n",
    "    rhythm = choose_rhythm(prog)\n",
    "    return prog, rhythm, choose_rhythm\n",
    "\n",
    "prog = generate_progression([\n",
    "    (('ii', 'V', 'I'), [{'measure': 0, 'beat': 0}, {'measure': 1, 'beat': 3}, {'measure': 2, 'beat': 0}]),\n",
    "    (('ii', 'V', 'I'), [{'measure': 0, 'beat': 0}, {'measure': 1, 'beat': 0}, {'measure': 2, 'beat': 0}]),\n",
    "    (('I', 'V'), [{'measure': 0, 'beat': 0}, {'measure': 2, 'beat': 2}]),\n",
    "    (('I', 'V7'), [{'measure': 0, 'beat': 0}, {'measure': 2, 'beat': 0}]),\n",
    "])\n",
    "prog"
   ]
  },
  {
   "cell_type": "markdown",
   "id": "42ba080c",
   "metadata": {},
   "source": [
    "## Generate chords"
   ]
  },
  {
   "cell_type": "markdown",
   "id": "3be2c6f0",
   "metadata": {},
   "source": [
    "## prep the markov matrix"
   ]
  },
  {
   "cell_type": "code",
   "execution_count": 165,
   "id": "8c411365",
   "metadata": {},
   "outputs": [],
   "source": [
    "from collections import Counter\n",
    "from more_itertools import windowed\n",
    "\n",
    "def chord_progression_markov_dict(scores):\n",
    "    markov_dict = dict()\n",
    "\n",
    "    for s in scores:\n",
    "        chords_and_durations = extract_chords_and_durations (s, include_duration=False)\n",
    "        for window in windowed(chords_and_durations, 3):\n",
    "            dict_key = window[:-1]\n",
    "            dict_val = window[-1]\n",
    "            if dict_key not in markov_dict:\n",
    "                markov_dict[dict_key] = Counter()\n",
    "            rel_count = markov_dict[dict_key]\n",
    "            rel_count[dict_val] += 1\n",
    "\n",
    "    return(markov_dict)\n"
   ]
  },
  {
   "cell_type": "code",
   "execution_count": 166,
   "id": "db5ac04d",
   "metadata": {},
   "outputs": [],
   "source": [
    "markov_chords = chord_progression_markov_dict(dataset_transposed)"
   ]
  },
  {
   "cell_type": "markdown",
   "id": "829a9258",
   "metadata": {},
   "source": [
    "## Generate thru the markov matrix"
   ]
  },
  {
   "cell_type": "code",
   "execution_count": 194,
   "id": "3a36da51",
   "metadata": {},
   "outputs": [],
   "source": [
    "def init_prog(chord_probs, k=key.Key('C')):\n",
    "    '''\n",
    "    Picks a set of two chords, to initialize the prog.\n",
    "    Many ways to do this, but here's one impl:\n",
    "    '''\n",
    "    while True:\n",
    "        random_start = random.choice(list(chord_probs.keys()))\n",
    "        if random_start[0] in ('I', 'vi'):\n",
    "            break\n",
    "    return list(random_start)\n",
    "\n",
    "\n",
    "def generate_chords(chord_probs, length=4, k=key.Key('C')):\n",
    "    '''\n",
    "    Generate the chords for a melody for a given progression, following the markov chain specified by chord_probs.\n",
    "    \n",
    "    chord_probs: dict mapping 2 chords to a counter of chords. \n",
    "    '''\n",
    "    prog = init_prog(chord_probs) \n",
    "    while len(prog) < length:\n",
    "        chord_2, chord_1 = prog[-2], prog[-1]\n",
    "        \n",
    "        if (chord_2, chord_1) in chord_probs:\n",
    "            choices = chord_probs[(chord_2, chord_1)]\n",
    "            # because choices returns a list\n",
    "            new_chord_list = random.choices(list(choices.keys()), weights=list(choices.values()))\n",
    "            new_chord = new_chord_list[0]\n",
    "        else:\n",
    "            # Don't get stuck, sample from overall dist\n",
    "            new_chord = (random.choice(list(choices.keys())))[0]\n",
    "\n",
    "        prog.append(new_chord)\n",
    "        \n",
    "    return prog\n",
    "\n",
    "\n",
    "def generate_looping_chords (markov_chords, length=4):\n",
    "    '''\n",
    "    Generate the chords for a melody for a given progression, following the markov chain specified by chord_probs.\n",
    "    ! Ensures the chord prog can feasibly loop, by forcing the chord prog to be a looping one.\n",
    "    chord_probs: dict mapping 2 chords to a counter of chords. \n",
    "    '''\n",
    "    while True:\n",
    "        chord_prog = generate_chords(markov_chords, length=length+1)\n",
    "        if chord_prog[0] == chord_prog[-1]:\n",
    "            break\n",
    "    # don't return the looped end, for simplicity in repeating\n",
    "    return chord_prog[:-1]"
   ]
  },
  {
   "cell_type": "code",
   "execution_count": 188,
   "id": "4771b941",
   "metadata": {},
   "outputs": [],
   "source": [
    "looping_chords = generate_looping_chords(markov_chords, 4)"
   ]
  },
  {
   "cell_type": "code",
   "execution_count": 197,
   "id": "5fb468a8",
   "metadata": {},
   "outputs": [
    {
     "data": {
      "image/png": "[encoded data removed]",
      "text/plain": [
       "<IPython.core.display.Image object>"
      ]
     },
     "metadata": {
      "image/png": {
       "height": 49,
       "width": 674
      }
     },
     "output_type": "display_data"
    }
   ],
   "source": [
    "def restify(m):\n",
    "    def insert_rest(offset, length):\n",
    "        r = note.Rest()\n",
    "        r.quarterLength = length\n",
    "        m.insert(offset, r)\n",
    "        \n",
    "    offsets = []\n",
    "    for o in m:\n",
    "        offsets.append(o.offset)\n",
    "        \n",
    "    offsets = sorted(offsets)\n",
    "    if len(offsets) == 0:\n",
    "        insert_rest(0, 4)\n",
    "        return m\n",
    "    \n",
    "    if offsets[0] > 0:\n",
    "        insert_rest(0, offsets[0])\n",
    "    \n",
    "    for i in range(len(offsets)-1):\n",
    "        insert_rest(offsets[i]+1, offsets[i+1] - (offsets[i] + 1))\n",
    "        \n",
    "    if offsets[-1] < 3:\n",
    "        insert_rest(offsets[-1], 3-offsets[-1])\n",
    "    \n",
    "    return m\n",
    "\n",
    "def generate_chords_part(progression, length, k=key.Key('C')):\n",
    "    '''\n",
    "    Generate a Part that is the chord progression repeated for a quarterlength of length.\n",
    "    '''\n",
    "    p = stream.Part()\n",
    "    p.append(meter.TimeSignature('4/4'))\n",
    "    chords, rhythm, _ = progression\n",
    "    chord_idx = 0\n",
    "    for i in range(length // 4):\n",
    "        m = stream.Measure()\n",
    "        \n",
    "        measure_idx = i % 4\n",
    "        for j, symbol in enumerate(chords):\n",
    "            if rhythm[j]['measure'] == measure_idx:\n",
    "                # place a chord here\n",
    "                chrd = roman.RomanNumeral(symbol, k)\n",
    "                m.insert(rhythm[j]['beat'], chrd)\n",
    "        \n",
    "        restify(m)\n",
    "        p.append(m)\n",
    "    \n",
    "    return p\n",
    "\n",
    "four_chord_rhythm = [{'measure': 0, 'beat': 0}, {'measure': 1, 'beat': 0},  {'measure': 2, 'beat': 0}, {'measure': 3, 'beat': 0}]\n",
    "four_chord_rhythm = []\n",
    "prog = (looping_chords, four_chord_rhythm, 'junk')\n",
    "p = generate_chords_part(prog, 4*8)\n",
    "p.show()"
   ]
  },
  {
   "cell_type": "markdown",
   "id": "cedcf737",
   "metadata": {},
   "source": [
    "## Generate melody\n",
    "#### Assumes 4/4"
   ]
  },
  {
   "cell_type": "code",
   "execution_count": 254,
   "id": "03027e79",
   "metadata": {},
   "outputs": [],
   "source": [
    "from collections import Counter\n",
    "from more_itertools import windowed\n",
    "from fractions import Fraction\n",
    "\n",
    "def melody_markov_dict(scores):\n",
    "    markov_dict = dict()\n",
    "\n",
    "    for s in scores:\n",
    "        notes = extract_notes (s)\n",
    "        for window in windowed(notes, 3):\n",
    "            if None not in window:\n",
    "                (note_1, _) = window[0]\n",
    "                (note_2, _) = window[1]\n",
    "                (note_3, key) = window[2]\n",
    "\n",
    "                if not isinstance(note_3[1], Fraction):\n",
    "\n",
    "                    dict_key = (note_1, note_2, key)\n",
    "\n",
    "                    if dict_key not in markov_dict:\n",
    "                        markov_dict[dict_key] = Counter()\n",
    "                    rel_count = markov_dict[dict_key]\n",
    "                    rel_count[note_3] += 1\n",
    "\n",
    "    return(markov_dict)\n"
   ]
  },
  {
   "cell_type": "code",
   "execution_count": 255,
   "id": "1d5d6016",
   "metadata": {},
   "outputs": [],
   "source": [
    "melody_matrix = melody_markov_dict(dataset_transposed)"
   ]
  },
  {
   "cell_type": "code",
   "execution_count": 257,
   "id": "4b89b070",
   "metadata": {},
   "outputs": [],
   "source": [
    "def get_chord_by_offset(progression, offset):\n",
    "    offset = offset % (4*4)\n",
    "    measure = offset // 4\n",
    "    beat = offset - (4*measure)\n",
    "    \n",
    "    chords, rhythm, _ = progression\n",
    "    for i in range(len(chords)):\n",
    "        if rhythm[i]['measure'] == measure and rhythm[i]['beat'] <= beat:\n",
    "            return chords[i]\n",
    "        if rhythm[i]['measure'] > measure:\n",
    "            return chords[i-1]\n",
    "        \n",
    "    return chords[-1]\n",
    "\n",
    "def init_notes(progression, melody_probs, num_notes, k=key.Key('C')):\n",
    "    random_start = random.choice(list(melody_probs.keys()))\n",
    "    return [random_start[0], random_start[1]], 0\n",
    "\n",
    "    # prob_rest = 0.1\n",
    "    # offset = 0\n",
    "    # notes = []\n",
    "    # for i in range(num_notes):\n",
    "    #     symbol = get_chord_by_offset(progression, offset)\n",
    "    #     chrd = roman.RomanNumeral(symbol, k)\n",
    "    #     pitch_choice = random.choice(chrd.pitches)\n",
    "    #     pitch_choice.octave = random.choice([4,5])\n",
    "    #     note_choice = random.choices([pitch_choice.name, 'r'], weights=[1-prob_rest, prob_rest])[0]\n",
    "    #     note_len = random.choice([0.25, 0.5, 1])\n",
    "    #     offset += note_len\n",
    "    #     notes.append((note_choice, note_len))\n",
    "    # return notes, offset\n",
    "    \n",
    "\n",
    "def get_chord_to_notes(melody_probs):\n",
    "    c_to_n = {}\n",
    "    for note_2, note_1, chrd in melody_probs:\n",
    "        if chrd not in c_to_n:\n",
    "            c_to_n[chrd] = []\n",
    "        c_to_n[chrd].append((note_2, note_1, chrd))\n",
    "    return c_to_n\n",
    "\n",
    "def generate_melody_notes(progression, melody_probs, length, k=key.Key('C')):\n",
    "    '''\n",
    "    Generate a the notes for a melody for a given progression. The length of the part in quarter notes should be 'length'.\n",
    "    \n",
    "    melody_probs: dict mapping 2 notes and the current chord to a list of notes. \n",
    "                    The 2 notes are supposed to be 2 notes preceeding an offset, and the chord should be the chord that is \n",
    "                    being played at that offset.\n",
    "    '''\n",
    "    chord_to_notes = get_chord_to_notes(melody_probs)\n",
    "    # Given current chord and last 2 notes, generate this note\n",
    "    # note := (pitch, duration); pitch := B3, C4, D#4... r for rests; duration := some number\n",
    "    # melody_probs := dict[(note, note, chord)] => [note, note, ...]\n",
    "    notes, offset = init_notes(progression, melody_probs, 2) #[], 0 # TODO: initialize somehow\n",
    "    offsets = []\n",
    "    while offset < length:\n",
    "        note_2, note_1 = notes[-2], notes[-1]\n",
    "        chrd = get_chord_by_offset(progression, offset)\n",
    "        \n",
    "        if (note_2, note_1, chrd) in melody_probs:\n",
    "            note_choices = melody_probs[(note_2, note_1, chrd)]\n",
    "        else:\n",
    "            if chrd in chord_to_notes:\n",
    "                chrd_choice = chrd\n",
    "            else:\n",
    "                # if the chord never appeared, pick random, as fallback\n",
    "                chrd_choice = random.choice(list(chord_to_notes.keys()))\n",
    "            key_ = random.choice(chord_to_notes[chrd_choice])\n",
    "            note_choices = melody_probs[key_]\n",
    "\n",
    "        note_0 = random.choices(list(note_choices.keys()), weights=list(note_choices.values()))[0]\n",
    "        notes.append(note_0)\n",
    "        offsets.append(offset)\n",
    "        offset += note_0[1]\n",
    "        \n",
    "    melody = [(notes[i+2], offsets[i]) for i in range(len(offsets))]\n",
    "    return melody\n",
    "\n",
    "# melody_notes = generate_melody_notes(prog, {\n",
    "#     (('C', 0.5), ('E', 0.5), 'I'): [('G', 0.5)],\n",
    "#     (('E', 0.5), ('G', 0.5), 'I'): [('r', 0.5)],\n",
    "#     (('G', 0.5), ('r', 0.5), 'I'): [('C', 0.5)],\n",
    "#     (('r', 0.5), ('C', 0.5), 'I'): [('E', 0.5)],\n",
    "#     (('G', 0.5), ('B', 0.5), 'V'): [('D', 0.5)],\n",
    "#     (('B', 0.5), ('D', 0.5), 'V'): [('F', 0.5)],\n",
    "#     (('D', 0.5), ('F', 0.5), 'V'): [('E', 0.5)],\n",
    "# }, 4*8)\n",
    "melody_notes = generate_melody_notes(prog, melody_matrix, 4*8)"
   ]
  },
  {
   "cell_type": "code",
   "execution_count": 262,
   "id": "6865344f",
   "metadata": {},
   "outputs": [
    {
     "data": {
      "text/plain": [
       "[(('E', 0.5), 0), (('A', 0.5), 0.5), (('G', 1.0), 1.0), (('F', 0.5), 2.0)]"
      ]
     },
     "execution_count": 262,
     "metadata": {},
     "output_type": "execute_result"
    }
   ],
   "source": [
    "melody_notes[:4]"
   ]
  },
  {
   "cell_type": "code",
   "execution_count": 259,
   "id": "b29fefbd",
   "metadata": {},
   "outputs": [
    {
     "data": {
      "image/png": "[encoded data removed]",
      "text/plain": [
       "<IPython.core.display.Image object>"
      ]
     },
     "metadata": {
      "image/png": {
       "height": 187,
       "width": 708
      }
     },
     "output_type": "display_data"
    }
   ],
   "source": [
    "def generate_melody(notes, length):\n",
    "    '''\n",
    "    Generate a Part from the melody notes.\n",
    "    '''\n",
    "    p = stream.Part()\n",
    "    p.append(meter.TimeSignature('4/4'))\n",
    "    \n",
    "    measure_num = 0\n",
    "    m = stream.Measure()\n",
    "    \n",
    "    for note_def, offset in notes:\n",
    "        if int(offset // 4) != measure_num:\n",
    "            for _ in range(int((offset // 4)) - measure_num):\n",
    "                p.append(m)\n",
    "                m = stream.Measure()\n",
    "            measure_num = int(offset // 4)\n",
    "        \n",
    "        name, note_len = note_def\n",
    "        \n",
    "        if name == 'r':\n",
    "            n = note.Rest()\n",
    "        else:\n",
    "            n = note.Note(name)\n",
    "        n.quarterLength = note_len\n",
    "        m.insert(offset % 4, n)\n",
    "    p.append(m)\n",
    "    return p\n",
    "\n",
    "\n",
    "\n",
    "melody = generate_melody(melody_notes, 4*8)\n",
    "melody.show()"
   ]
  },
  {
   "cell_type": "markdown",
   "id": "f213a007",
   "metadata": {},
   "source": [
    "# Big piece"
   ]
  },
  {
   "cell_type": "code",
   "execution_count": 261,
   "id": "b1a0f07d",
   "metadata": {},
   "outputs": [
    {
     "data": {
      "image/png": "[encoded data removed]",
      "text/plain": [
       "<IPython.core.display.Image object>"
      ]
     },
     "metadata": {
      "image/png": {
       "height": 324,
       "width": 708
      }
     },
     "output_type": "display_data"
    }
   ],
   "source": [
    "def generate_score(melody, chords):\n",
    "    score = stream.Score()\n",
    "    score.append(melody)\n",
    "    score.append(chords)\n",
    "    return score\n",
    "\n",
    "score = generate_score(melody, p)\n",
    "score.show()"
   ]
  },
  {
   "cell_type": "markdown",
   "id": "4f6d2da6",
   "metadata": {},
   "source": []
  }
 ],
 "metadata": {
  "kernelspec": {
   "display_name": "Python 3",
   "language": "python",
   "name": "python3"
  },
  "language_info": {
   "codemirror_mode": {
    "name": "ipython",
    "version": 3
   },
   "file_extension": ".py",
   "mimetype": "text/x-python",
   "name": "python",
   "nbconvert_exporter": "python",
   "pygments_lexer": "ipython3",
   "version": "3.9.5"
  }
 },
 "nbformat": 4,
 "nbformat_minor": 5
}
