{
 "cells": [
  {
   "cell_type": "code",
   "execution_count": 3,
   "id": "fd141f0b",
   "metadata": {},
   "outputs": [],
   "source": [
    "from music21 import *\n",
    "import os"
   ]
  },
  {
   "cell_type": "markdown",
   "id": "3b3ada10",
   "metadata": {},
   "source": [
    "## Load dataset"
   ]
  },
  {
   "cell_type": "code",
   "execution_count": 10,
   "id": "d231894c",
   "metadata": {},
   "outputs": [],
   "source": [
    "dataset_dir = './dataset'\n",
    "dataset = []\n",
    "for filename in os.listdir(dataset_dir):\n",
    "    if filename.endswith('.xml') or filename.endswith('.musicxml'):\n",
    "        c = converter.parse(dataset_dir + '/' + filename)\n",
    "        dataset.append(c)\n",
    "print(len(dataset))"
   ]
  },
  {
   "cell_type": "code",
   "execution_count": 26,
   "id": "e83ebfa8",
   "metadata": {},
   "outputs": [
    {
     "name": "stdout",
     "output_type": "stream",
     "text": [
      "418\n"
     ]
    }
   ],
   "source": [
    "# transpose each piece to the same key (C or Cm)\n",
    "def transpose_to_C(s):\n",
    "    key = s.analyze('key')\n",
    "    i = interval.Interval(key.tonic, pitch.Pitch('C'))\n",
    "    return s.transpose(i)\n",
    "\n",
    "dataset_transposed = []\n",
    "for s in dataset:\n",
    "    try:\n",
    "        dataset_transposed.append(transpose_to_C(s))\n",
    "    except:\n",
    "        pass\n",
    "\n",
    "print(len(dataset_transposed))"
   ]
  },
  {
   "cell_type": "markdown",
   "id": "7366b91b",
   "metadata": {},
   "source": [
    "## Feature extract"
   ]
  },
  {
   "cell_type": "code",
   "execution_count": null,
   "id": "6717d649",
   "metadata": {},
   "outputs": [],
   "source": []
  },
  {
   "cell_type": "markdown",
   "id": "4a4bdf10",
   "metadata": {},
   "source": [
    "## Generate chord prog"
   ]
  },
  {
   "cell_type": "code",
   "execution_count": null,
   "id": "ee98009e",
   "metadata": {},
   "outputs": [],
   "source": []
  },
  {
   "cell_type": "markdown",
   "id": "02cf82fe",
   "metadata": {},
   "source": [
    "## Generate melody"
   ]
  },
  {
   "cell_type": "code",
   "execution_count": null,
   "id": "35826a94",
   "metadata": {},
   "outputs": [],
   "source": []
  }
 ],
 "metadata": {
  "kernelspec": {
   "display_name": "Python 3 (ipykernel)",
   "language": "python",
   "name": "python3"
  },
  "language_info": {
   "codemirror_mode": {
    "name": "ipython",
    "version": 3
   },
   "file_extension": ".py",
   "mimetype": "text/x-python",
   "name": "python",
   "nbconvert_exporter": "python",
   "pygments_lexer": "ipython3",
   "version": "3.9.6"
  }
 },
 "nbformat": 4,
 "nbformat_minor": 5
}
