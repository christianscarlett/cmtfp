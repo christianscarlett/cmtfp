{
 "cells": [
  {
   "cell_type": "code",
   "execution_count": 50,
   "id": "fd141f0b",
   "metadata": {},
   "outputs": [],
   "source": [
    "from music21 import *\n",
    "import os\n",
    "import random"
   ]
  },
  {
   "cell_type": "markdown",
   "id": "3dee2d18",
   "metadata": {},
   "source": [
    "## Load dataset"
   ]
  },
  {
   "cell_type": "code",
   "execution_count": 10,
   "id": "c010652e",
   "metadata": {},
   "outputs": [],
   "source": [
    "dataset_dir = './dataset'\n",
    "dataset = []\n",
    "for filename in os.listdir(dataset_dir):\n",
    "    if filename.endswith('.xml') or filename.endswith('.musicxml'):\n",
    "        c = converter.parse(dataset_dir + '/' + filename)\n",
    "        dataset.append(c)\n",
    "print(len(dataset))"
   ]
  },
  {
   "cell_type": "code",
   "execution_count": 26,
   "id": "c8841bda",
   "metadata": {},
   "outputs": [
    {
     "name": "stdout",
     "output_type": "stream",
     "text": [
      "418\n"
     ]
    }
   ],
   "source": [
    "# transpose each piece to the same key (C or Cm)\n",
    "def transpose_to_C(s):\n",
    "    key = s.analyze('key')\n",
    "    i = interval.Interval(key.tonic, pitch.Pitch('C'))\n",
    "    return s.transpose(i)\n",
    "\n",
    "dataset_transposed = []\n",
    "for s in dataset:\n",
    "    try:\n",
    "        dataset_transposed.append(transpose_to_C(s))\n",
    "    except:\n",
    "        pass\n",
    "\n",
    "print(len(dataset_transposed))"
   ]
  },
  {
   "cell_type": "markdown",
   "id": "f6111c73",
   "metadata": {},
   "source": [
    "## Feature extract"
   ]
  },
  {
   "cell_type": "code",
   "execution_count": null,
   "id": "369e77cb",
   "metadata": {},
   "outputs": [],
   "source": []
  },
  {
   "cell_type": "markdown",
   "id": "19a028d5",
   "metadata": {},
   "source": [
    "## Generate chord prog"
   ]
  },
  {
   "cell_type": "code",
   "execution_count": 46,
   "id": "de0cfb2b",
   "metadata": {},
   "outputs": [
    {
     "data": {
      "text/plain": [
       "'M0B0-M1B3-M2B0'"
      ]
     },
     "execution_count": 46,
     "metadata": {},
     "output_type": "execute_result"
    }
   ],
   "source": [
    "def hash_rhythm(rhythm):\n",
    "    '''\n",
    "    Input: list (e.g. [{measure: 0, beat: 0}, {measure: 1, beat: 3}, {measure: 2, beat: 0}])\n",
    "    Output: string (e.g. 'M1B0-M1B3-M2B0')\n",
    "    '''\n",
    "    hashes = []\n",
    "    for r in rhythm:\n",
    "        hashes.append(\n",
    "            'M' + str(r['measure']) + 'B' + str(r['beat'])\n",
    "        )\n",
    "    return '-'.join(hashes)\n",
    "\n",
    "hash_rhythm([{'measure': 0, 'beat': 0}, {'measure': 1, 'beat': 3}, {'measure': 2, 'beat': 0}])"
   ]
  },
  {
   "cell_type": "code",
   "execution_count": 47,
   "id": "340e24db",
   "metadata": {},
   "outputs": [
    {
     "data": {
      "text/plain": [
       "[{'measure': '0', 'beat': '0'},\n",
       " {'measure': '1', 'beat': '3'},\n",
       " {'measure': '2', 'beat': '0'}]"
      ]
     },
     "execution_count": 47,
     "metadata": {},
     "output_type": "execute_result"
    }
   ],
   "source": [
    "def unhash_rhythm(rhythm_hash):\n",
    "    '''\n",
    "    Input: a hashed rhythm\n",
    "    Output: the unhashed rhythm\n",
    "    '''\n",
    "    unhashed = []\n",
    "    for subhash in rhythm_hash.split('-'):\n",
    "        m, b = subhash[1:].split('B')\n",
    "        unhashed.append({\n",
    "            'measure': m,\n",
    "            'beat': b\n",
    "        })\n",
    "    return unhashed\n",
    "        \n",
    "unhash_rhythm('M0B0-M1B3-M2B0')"
   ]
  },
  {
   "cell_type": "code",
   "execution_count": 138,
   "id": "45a912fc",
   "metadata": {},
   "outputs": [
    {
     "data": {
      "text/plain": [
       "(('I', 'V'),\n",
       " [{'measure': 0, 'beat': 0}, {'measure': 2, 'beat': 2}],\n",
       " <function __main__.generate_progression.<locals>.choose_rhythm(prog)>)"
      ]
     },
     "execution_count": 138,
     "metadata": {},
     "output_type": "execute_result"
    }
   ],
   "source": [
    "def generate_progression(pairs):\n",
    "    '''\n",
    "    Inputs:\n",
    "        list of tuples (progression, rhythm) where progression is a tuple of chord names (e.g. ('ii', 'V', 'I'))\n",
    "            and rhythm is defined above (unhashed)\n",
    "    Outputs:\n",
    "        a tuple (progression, rhythm, rhythm_choosing_func)\n",
    "    '''\n",
    "    progs = []\n",
    "    rhythms_given_prog_len = {}\n",
    "    for prog, rhythm in pairs:\n",
    "        progs.append(prog)\n",
    "        if len(prog) not in rhythms_given_prog_len:\n",
    "            rhythms_given_prog_len[len(prog)] = []\n",
    "        rhythms_given_prog_len[len(prog)].append(rhythm)\n",
    "        \n",
    "    def choose_rhythm(prog):\n",
    "        return random.choice(rhythms_given_prog_len[len(prog)])\n",
    "    \n",
    "    prog = random.choice(progs)\n",
    "    rhythm = choose_rhythm(prog)\n",
    "    return prog, rhythm, choose_rhythm\n",
    "\n",
    "prog = generate_progression([\n",
    "    (('ii', 'V', 'I'), [{'measure': 0, 'beat': 0}, {'measure': 1, 'beat': 3}, {'measure': 2, 'beat': 0}]),\n",
    "    (('ii', 'V', 'I'), [{'measure': 0, 'beat': 0}, {'measure': 1, 'beat': 0}, {'measure': 2, 'beat': 0}]),\n",
    "    (('I', 'V'), [{'measure': 0, 'beat': 0}, {'measure': 2, 'beat': 2}]),\n",
    "    (('I', 'V7'), [{'measure': 0, 'beat': 0}, {'measure': 2, 'beat': 0}]),\n",
    "])\n",
    "prog"
   ]
  },
  {
   "cell_type": "code",
   "execution_count": 139,
   "id": "27246aab",
   "metadata": {},
   "outputs": [
    {
     "data": {
      "image/png": "[encoded data removed]",
      "text/plain": [
       "<IPython.core.display.Image object>"
      ]
     },
     "metadata": {
      "image/png": {
       "height": 51,
       "width": 674
      }
     },
     "output_type": "display_data"
    }
   ],
   "source": [
    "def restify(m):\n",
    "    def insert_rest(offset, length):\n",
    "        r = note.Rest()\n",
    "        r.quarterLength = length\n",
    "        m.insert(offset, r)\n",
    "        \n",
    "    offsets = []\n",
    "    for o in m:\n",
    "        offsets.append(o.offset)\n",
    "        \n",
    "    offsets = sorted(offsets)\n",
    "    if len(offsets) == 0:\n",
    "        insert_rest(0, 4)\n",
    "        return m\n",
    "    \n",
    "    if offsets[0] > 0:\n",
    "        insert_rest(0, offsets[0])\n",
    "    \n",
    "    for i in range(len(offsets)-1):\n",
    "        insert_rest(offset[i]+1, offset[i+1] - (offset[i] + 1))\n",
    "        \n",
    "    if offsets[-1] < 3:\n",
    "        insert_rest(offsets[-1], 3-offsets[-1])\n",
    "    \n",
    "    return m\n",
    "\n",
    "def generate_chords(progression, length, k=key.Key('C')):\n",
    "    '''\n",
    "    Generate a Part that is the chord progression repeated for a quarterlength of length.\n",
    "    '''\n",
    "    p = stream.Part()\n",
    "    p.append(meter.TimeSignature('4/4'))\n",
    "    chords, rhythm, _ = progression\n",
    "    chord_idx = 0\n",
    "    for i in range(length // 4):\n",
    "        m = stream.Measure()\n",
    "        \n",
    "        measure_idx = i % 4\n",
    "        for j, symbol in enumerate(chords):\n",
    "            if rhythm[j]['measure'] == measure_idx:\n",
    "                # place a chord here\n",
    "                chrd = roman.RomanNumeral(symbol, k)\n",
    "                m.insert(rhythm[j]['beat'], chrd)\n",
    "        \n",
    "        restify(m)\n",
    "        p.append(m)\n",
    "    \n",
    "    return p\n",
    "\n",
    "p = generate_chords(prog, 4*8)\n",
    "p.show()"
   ]
  },
  {
   "cell_type": "markdown",
   "id": "a08fd0a5",
   "metadata": {},
   "source": [
    "## Generate melody\n",
    "#### Assumes 4/4"
   ]
  },
  {
   "cell_type": "code",
   "execution_count": 140,
   "id": "e6769f59",
   "metadata": {},
   "outputs": [
    {
     "ename": "IndexError",
     "evalue": "list index out of range",
     "output_type": "error",
     "traceback": [
      "\u001b[1;31m---------------------------------------------------------------------------\u001b[0m",
      "\u001b[1;31mIndexError\u001b[0m                                Traceback (most recent call last)",
      "\u001b[1;32m~\\AppData\\Local\\Temp/ipykernel_18092/3269495381.py\u001b[0m in \u001b[0;36m<module>\u001b[1;34m\u001b[0m\n\u001b[0;32m     31\u001b[0m     \u001b[1;32mreturn\u001b[0m \u001b[0mmelody\u001b[0m\u001b[1;33m\u001b[0m\u001b[1;33m\u001b[0m\u001b[0m\n\u001b[0;32m     32\u001b[0m \u001b[1;33m\u001b[0m\u001b[0m\n\u001b[1;32m---> 33\u001b[1;33m generate_melody(prog, {\n\u001b[0m\u001b[0;32m     34\u001b[0m     (('D', 0.5), ('F', 0.5), 'ii'): [\n\u001b[0;32m     35\u001b[0m         \u001b[1;33m(\u001b[0m\u001b[1;34m'A'\u001b[0m\u001b[1;33m,\u001b[0m \u001b[1;36m0.5\u001b[0m\u001b[1;33m)\u001b[0m\u001b[1;33m,\u001b[0m \u001b[1;33m(\u001b[0m\u001b[1;34m'C'\u001b[0m\u001b[1;33m,\u001b[0m \u001b[1;36m0.5\u001b[0m\u001b[1;33m)\u001b[0m\u001b[1;33m,\u001b[0m \u001b[1;33m(\u001b[0m\u001b[1;34m'A'\u001b[0m\u001b[1;33m,\u001b[0m \u001b[1;36m0.5\u001b[0m\u001b[1;33m)\u001b[0m\u001b[1;33m,\u001b[0m \u001b[1;33m(\u001b[0m\u001b[1;34m'C'\u001b[0m\u001b[1;33m,\u001b[0m \u001b[1;36m0.5\u001b[0m\u001b[1;33m)\u001b[0m\u001b[1;33m,\u001b[0m \u001b[1;33m(\u001b[0m\u001b[1;34m'G'\u001b[0m\u001b[1;33m,\u001b[0m \u001b[1;36m0.5\u001b[0m\u001b[1;33m)\u001b[0m\u001b[1;33m,\u001b[0m \u001b[1;33m(\u001b[0m\u001b[1;34m'E'\u001b[0m\u001b[1;33m,\u001b[0m \u001b[1;36m0.5\u001b[0m\u001b[1;33m)\u001b[0m\u001b[1;33m,\u001b[0m \u001b[1;33m(\u001b[0m\u001b[1;34m'A'\u001b[0m\u001b[1;33m,\u001b[0m \u001b[1;36m0.5\u001b[0m\u001b[1;33m)\u001b[0m\u001b[1;33m,\u001b[0m \u001b[1;33m(\u001b[0m\u001b[1;34m'r'\u001b[0m\u001b[1;33m,\u001b[0m \u001b[1;36m0.5\u001b[0m\u001b[1;33m)\u001b[0m\u001b[1;33m,\u001b[0m \u001b[1;33m(\u001b[0m\u001b[1;34m'r'\u001b[0m\u001b[1;33m)\u001b[0m\u001b[1;33m\u001b[0m\u001b[1;33m\u001b[0m\u001b[0m\n",
      "\u001b[1;32m~\\AppData\\Local\\Temp/ipykernel_18092/3269495381.py\u001b[0m in \u001b[0;36mgenerate_melody\u001b[1;34m(progression, melody_probs, length)\u001b[0m\n\u001b[0;32m     24\u001b[0m     \u001b[0moffset\u001b[0m \u001b[1;33m=\u001b[0m \u001b[1;36m0\u001b[0m\u001b[1;33m\u001b[0m\u001b[1;33m\u001b[0m\u001b[0m\n\u001b[0;32m     25\u001b[0m     \u001b[1;32mwhile\u001b[0m \u001b[0moffset\u001b[0m \u001b[1;33m<\u001b[0m \u001b[0mlength\u001b[0m\u001b[1;33m:\u001b[0m\u001b[1;33m\u001b[0m\u001b[1;33m\u001b[0m\u001b[0m\n\u001b[1;32m---> 26\u001b[1;33m         \u001b[0mnote_2\u001b[0m\u001b[1;33m,\u001b[0m \u001b[0mnote_1\u001b[0m \u001b[1;33m=\u001b[0m \u001b[0mnotes\u001b[0m\u001b[1;33m[\u001b[0m\u001b[1;33m-\u001b[0m\u001b[1;36m2\u001b[0m\u001b[1;33m]\u001b[0m\u001b[1;33m,\u001b[0m \u001b[0mnotes\u001b[0m\u001b[1;33m[\u001b[0m\u001b[1;33m-\u001b[0m\u001b[1;36m1\u001b[0m\u001b[1;33m]\u001b[0m\u001b[1;33m\u001b[0m\u001b[1;33m\u001b[0m\u001b[0m\n\u001b[0m\u001b[0;32m     27\u001b[0m         \u001b[0mchrd\u001b[0m \u001b[1;33m=\u001b[0m \u001b[0mget_chord_by_offset\u001b[0m\u001b[1;33m(\u001b[0m\u001b[0mprogression\u001b[0m\u001b[1;33m,\u001b[0m \u001b[0moffset\u001b[0m\u001b[1;33m)\u001b[0m\u001b[1;33m\u001b[0m\u001b[1;33m\u001b[0m\u001b[0m\n\u001b[0;32m     28\u001b[0m         \u001b[0mnote_choices\u001b[0m \u001b[1;33m=\u001b[0m \u001b[0mmelody_probs\u001b[0m\u001b[1;33m[\u001b[0m\u001b[1;33m(\u001b[0m\u001b[0mnote_2\u001b[0m\u001b[1;33m,\u001b[0m \u001b[0mnote_1\u001b[0m\u001b[1;33m,\u001b[0m \u001b[0mchrd\u001b[0m\u001b[1;33m)\u001b[0m\u001b[1;33m]\u001b[0m\u001b[1;33m\u001b[0m\u001b[1;33m\u001b[0m\u001b[0m\n",
      "\u001b[1;31mIndexError\u001b[0m: list index out of range"
     ]
    }
   ],
   "source": [
    "def get_chord_by_offset(progression, offset):\n",
    "    offset = offset % (4*4)\n",
    "    measure = offset // 4\n",
    "    beat = offset - (4*measure)\n",
    "    \n",
    "    chords, rhythm, _ = progression\n",
    "    for i in range(len(chords)):\n",
    "        if rhythm['measure'] == measure and rhythm['beat'] <= beat:\n",
    "            return chords[i]\n",
    "        if rhythm['measure'] > measure:\n",
    "            return chords[i-1]\n",
    "        \n",
    "    return chords[-1]\n",
    "    \n",
    "\n",
    "def generate_melody(progression, melody_probs, length):\n",
    "    '''\n",
    "    Generate a Part containing a melody for a given progression. The length of the part in quarter notes should be 'length'.\n",
    "    '''\n",
    "    # Given current chord and last 2 notes, generate this note\n",
    "    # note := (pitch, duration); pitch := B, C, D#... r for rests; duration := some number\n",
    "    # melody_probs := dict[(note, note, chord)] => [note, note, ...]\n",
    "    notes = [] # TODO: initialize somehow\n",
    "    offset = 0\n",
    "    while offset < length:\n",
    "        note_2, note_1 = notes[-2], notes[-1]\n",
    "        chrd = get_chord_by_offset(progression, offset)\n",
    "        note_choices = melody_probs[(note_2, note_1, chrd)]\n",
    "        note_0 = random.choice(note_choices)\n",
    "        notes.append(note_0)\n",
    "        offset += note_0[1]\n",
    "    return melody\n",
    "\n",
    "generate_melody(prog, {\n",
    "    (('D', 0.5), ('F', 0.5), 'ii'): [\n",
    "        ('A', 0.5), ('C', 0.5), ('A', 0.5), ('C', 0.5), ('G', 0.5), ('E', 0.5), ('A', 0.5), ('r', 0.5), ('r')\n",
    "    ],\n",
    "}, 4*8)    "
   ]
  },
  {
   "cell_type": "code",
   "execution_count": null,
   "id": "73ec7752",
   "metadata": {},
   "outputs": [],
   "source": []
  }
 ],
 "metadata": {
  "kernelspec": {
   "display_name": "Python 3 (ipykernel)",
   "language": "python",
   "name": "python3"
  },
  "language_info": {
   "codemirror_mode": {
    "name": "ipython",
    "version": 3
   },
   "file_extension": ".py",
   "mimetype": "text/x-python",
   "name": "python",
   "nbconvert_exporter": "python",
   "pygments_lexer": "ipython3",
   "version": "3.9.6"
  }
 },
 "nbformat": 4,
 "nbformat_minor": 5
}
