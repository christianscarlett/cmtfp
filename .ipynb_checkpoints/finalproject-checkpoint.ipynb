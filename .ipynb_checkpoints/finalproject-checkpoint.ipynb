{
 "cells": [
  {
   "cell_type": "code",
   "execution_count": 50,
   "id": "fd141f0b",
   "metadata": {},
   "outputs": [],
   "source": [
    "from music21 import *\n",
    "import os\n",
    "import random"
   ]
  },
  {
   "cell_type": "markdown",
   "id": "da836c23",
   "metadata": {},
   "source": [
    "## Load dataset"
   ]
  },
  {
   "cell_type": "code",
   "execution_count": 10,
   "id": "26832b33",
   "metadata": {},
   "outputs": [],
   "source": [
    "dataset_dir = './dataset'\n",
    "dataset = []\n",
    "for filename in os.listdir(dataset_dir):\n",
    "    if filename.endswith('.xml') or filename.endswith('.musicxml'):\n",
    "        c = converter.parse(dataset_dir + '/' + filename)\n",
    "        dataset.append(c)\n",
    "print(len(dataset))"
   ]
  },
  {
   "cell_type": "code",
   "execution_count": 26,
   "id": "371f0c68",
   "metadata": {},
   "outputs": [
    {
     "name": "stdout",
     "output_type": "stream",
     "text": [
      "418\n"
     ]
    }
   ],
   "source": [
    "# transpose each piece to the same key (C or Cm)\n",
    "def transpose_to_C(s):\n",
    "    key = s.analyze('key')\n",
    "    i = interval.Interval(key.tonic, pitch.Pitch('C'))\n",
    "    return s.transpose(i)\n",
    "\n",
    "dataset_transposed = []\n",
    "for s in dataset:\n",
    "    try:\n",
    "        dataset_transposed.append(transpose_to_C(s))\n",
    "    except:\n",
    "        pass\n",
    "\n",
    "print(len(dataset_transposed))"
   ]
  },
  {
   "cell_type": "markdown",
   "id": "097446d9",
   "metadata": {},
   "source": [
    "## Feature extract"
   ]
  },
  {
   "cell_type": "code",
   "execution_count": null,
   "id": "648834a7",
   "metadata": {},
   "outputs": [],
   "source": []
  },
  {
   "cell_type": "markdown",
   "id": "605885ef",
   "metadata": {},
   "source": [
    "## Generate chord prog"
   ]
  },
  {
   "cell_type": "code",
   "execution_count": 46,
   "id": "98b07371",
   "metadata": {},
   "outputs": [
    {
     "data": {
      "text/plain": [
       "'M0B0-M1B3-M2B0'"
      ]
     },
     "execution_count": 46,
     "metadata": {},
     "output_type": "execute_result"
    }
   ],
   "source": [
    "def hash_rhythm(rhythm):\n",
    "    '''\n",
    "    Input: list (e.g. [{measure: 0, beat: 0}, {measure: 1, beat: 3}, {measure: 2, beat: 0}])\n",
    "    Output: string (e.g. 'M1B0-M1B3-M2B0')\n",
    "    '''\n",
    "    hashes = []\n",
    "    for r in rhythm:\n",
    "        hashes.append(\n",
    "            'M' + str(r['measure']) + 'B' + str(r['beat'])\n",
    "        )\n",
    "    return '-'.join(hashes)\n",
    "\n",
    "hash_rhythm([{'measure': 0, 'beat': 0}, {'measure': 1, 'beat': 3}, {'measure': 2, 'beat': 0}])"
   ]
  },
  {
   "cell_type": "code",
   "execution_count": 47,
   "id": "adc2212a",
   "metadata": {},
   "outputs": [
    {
     "data": {
      "text/plain": [
       "[{'measure': '0', 'beat': '0'},\n",
       " {'measure': '1', 'beat': '3'},\n",
       " {'measure': '2', 'beat': '0'}]"
      ]
     },
     "execution_count": 47,
     "metadata": {},
     "output_type": "execute_result"
    }
   ],
   "source": [
    "def unhash_rhythm(rhythm_hash):\n",
    "    '''\n",
    "    Input: a hashed rhythm\n",
    "    Output: the unhashed rhythm\n",
    "    '''\n",
    "    unhashed = []\n",
    "    for subhash in rhythm_hash.split('-'):\n",
    "        m, b = subhash[1:].split('B')\n",
    "        unhashed.append({\n",
    "            'measure': m,\n",
    "            'beat': b\n",
    "        })\n",
    "    return unhashed\n",
    "        \n",
    "unhash_rhythm('M0B0-M1B3-M2B0')"
   ]
  },
  {
   "cell_type": "code",
   "execution_count": 135,
   "id": "68dc068c",
   "metadata": {},
   "outputs": [
    {
     "data": {
      "text/plain": [
       "(('ii', 'V', 'I'),\n",
       " [{'measure': 0, 'beat': 0},\n",
       "  {'measure': 1, 'beat': 0},\n",
       "  {'measure': 2, 'beat': 0}],\n",
       " <function __main__.generate_progression.<locals>.choose_rhythm(prog)>)"
      ]
     },
     "execution_count": 135,
     "metadata": {},
     "output_type": "execute_result"
    }
   ],
   "source": [
    "def generate_progression(pairs):\n",
    "    '''\n",
    "    Inputs:\n",
    "        list of tuples (progression, rhythm) where progression is a tuple of chord names (e.g. ('ii', 'V', 'I'))\n",
    "            and rhythm is defined above (unhashed)\n",
    "    Outputs:\n",
    "        a tuple (progression, rhythm, rhythm_choosing_func)\n",
    "    '''\n",
    "    progs = []\n",
    "    rhythms_given_prog_len = {}\n",
    "    for prog, rhythm in pairs:\n",
    "        progs.append(prog)\n",
    "        if len(prog) not in rhythms_given_prog_len:\n",
    "            rhythms_given_prog_len[len(prog)] = []\n",
    "        rhythms_given_prog_len[len(prog)].append(rhythm)\n",
    "        \n",
    "    def choose_rhythm(prog):\n",
    "        return random.choice(rhythms_given_prog_len[len(prog)])\n",
    "    \n",
    "    prog = random.choice(progs)\n",
    "    rhythm = choose_rhythm(prog)\n",
    "    return prog, rhythm, choose_rhythm\n",
    "\n",
    "prog = generate_progression([\n",
    "    (('ii', 'V', 'I'), [{'measure': 0, 'beat': 0}, {'measure': 1, 'beat': 3}, {'measure': 2, 'beat': 0}]),\n",
    "    (('ii', 'V', 'I'), [{'measure': 0, 'beat': 0}, {'measure': 1, 'beat': 0}, {'measure': 2, 'beat': 0}]),\n",
    "    (('I', 'V'), [{'measure': 0, 'beat': 0}, {'measure': 2, 'beat': 2}]),\n",
    "    (('I', 'V7'), [{'measure': 0, 'beat': 0}, {'measure': 2, 'beat': 0}]),\n",
    "])\n",
    "prog"
   ]
  },
  {
   "cell_type": "code",
   "execution_count": 136,
   "id": "c34993ce",
   "metadata": {},
   "outputs": [
    {
     "data": {
      "image/png": "[encoded data removed]",
      "text/plain": [
       "<IPython.core.display.Image object>"
      ]
     },
     "metadata": {
      "image/png": {
       "height": 51,
       "width": 674
      }
     },
     "output_type": "display_data"
    }
   ],
   "source": [
    "def restify(m):\n",
    "    def insert_rest(offset, length):\n",
    "        r = note.Rest()\n",
    "        r.quarterLength = length\n",
    "        m.insert(offset, r)\n",
    "        \n",
    "    offsets = []\n",
    "    for o in m:\n",
    "        offsets.append(o.offset)\n",
    "        \n",
    "    offsets = sorted(offsets)\n",
    "    if len(offsets) == 0:\n",
    "        insert_rest(0, 4)\n",
    "        return m\n",
    "    \n",
    "    if offsets[0] > 0:\n",
    "        insert_rest(0, offsets[0])\n",
    "    \n",
    "    for i in range(len(offsets)-1):\n",
    "        insert_rest(offset[i]+1, offset[i+1] - (offset[i] + 1))\n",
    "        \n",
    "    if offsets[-1] < 3:\n",
    "        insert_rest(offsets[-1], 3-offsets[-1])\n",
    "    \n",
    "    return m\n",
    "\n",
    "def generate_chords(progression, length, k=key.Key('C')):\n",
    "    '''\n",
    "    Generate a Part that is the chord progression repeated for a quarterlength of length.\n",
    "    '''\n",
    "    p = stream.Part()\n",
    "    p.append(meter.TimeSignature('4/4'))\n",
    "    chords, rhythm, _ = progression\n",
    "    chord_idx = 0\n",
    "    for i in range(length // 4):\n",
    "        m = stream.Measure()\n",
    "        \n",
    "        measure_idx = i % 4\n",
    "        for j, symbol in enumerate(chords):\n",
    "            if rhythm[j]['measure'] == measure_idx:\n",
    "                # place a chord here\n",
    "                chrd = roman.RomanNumeral(symbol, k)\n",
    "                m.insert(rhythm[j]['beat'], chrd)\n",
    "        \n",
    "        restify(m)\n",
    "        p.append(m)\n",
    "    \n",
    "    return p\n",
    "\n",
    "p = generate_chords(prog, 4*8)\n",
    "p.show()"
   ]
  },
  {
   "cell_type": "markdown",
   "id": "2f0a8abb",
   "metadata": {},
   "source": [
    "## Generate melody\n",
    "#### Assumes 4/4"
   ]
  },
  {
   "cell_type": "code",
   "execution_count": 137,
   "id": "2c606ddb",
   "metadata": {},
   "outputs": [],
   "source": [
    "def generate_melody(progression, length):\n",
    "    '''\n",
    "    Generate a Part containing a melody for a given progression. The length of the part in quarter notes should be 'length'.\n",
    "    '''\n",
    "    chords = generate_chords(progression, length)\n",
    "    "
   ]
  },
  {
   "cell_type": "code",
   "execution_count": null,
   "id": "f8364ca2",
   "metadata": {},
   "outputs": [],
   "source": []
  }
 ],
 "metadata": {
  "kernelspec": {
   "display_name": "Python 3 (ipykernel)",
   "language": "python",
   "name": "python3"
  },
  "language_info": {
   "codemirror_mode": {
    "name": "ipython",
    "version": 3
   },
   "file_extension": ".py",
   "mimetype": "text/x-python",
   "name": "python",
   "nbconvert_exporter": "python",
   "pygments_lexer": "ipython3",
   "version": "3.9.6"
  }
 },
 "nbformat": 4,
 "nbformat_minor": 5
}
